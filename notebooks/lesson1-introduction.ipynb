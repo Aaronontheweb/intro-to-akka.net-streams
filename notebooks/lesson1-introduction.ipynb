{
 "cells": [
  {
   "cell_type": "markdown",
   "metadata": {},
   "source": [
    "# What is Akka.Streams?\n",
    "[Akka.Streams](https://getakka.net/articles/streams/introduction.html) is a high-level abstraction built on top of Akka.NET actors; it's general purpose implementation of the [Reactive Streams specification](https://www.reactive-streams.org/) for .NET and offers a [variety of built-in components](https://getakka.net/articles/streams/builtinstages.html), high performance, a succinct LINQ-like syntax, and a highly composable and [customizable development experience](https://getakka.net/articles/streams/custom-stream-processing.html)."
   ]
  },
  {
   "cell_type": "markdown",
   "metadata": {},
   "source": [
    "## What is Akka.Streams Used For?\n",
    "There are three compelling reasons to want to use Akka.Streams:\n",
    "\n",
    "1. **Making asynchronous producer-consumer models safe and effective** - through the use of Reactive Streams, and more specifically through the use of \"backoff\" mechanisms that tell producers when they are overwhelming a slower-moving consumer with ouptut, we can prevent asynchronous systems from failing by helping producers slow down, aggregate, combine, debounce, or otherwise filter their output to help match the downstream input rates. This is done dynamically, so when consumers begin to move faster producers will also keep up.\n",
    "2. **Providing re-usable asynchronous event-driven programming patterns** - Akka.Streams provides concise formulas for common event-driven patterns such as batching, debouncing, aggregating, filtering, and more.\n",
    "3. **Shovel-ready integration with non-Akka.NET technologies** - through the [Alpakka project](https://alpakka.getakka.net/) and others it's easy to connect Akka.NET actors to Kafka, Azure EventHubs, AWS Kinesis / SNS / SQS, CSV files, SignalR, AMQP, and more.\n",
    "\n",
    "This repository is mostly focused on the syntax for how to use Akka.Streams, how it works, and when you should use different portions of it."
   ]
  },
  {
   "cell_type": "markdown",
   "metadata": {},
   "source": [
    "## A Simple Example\n",
    "\n",
    "To use Akka.Streams, we only need to install the [Akka.Streams NuGet package](https://www.nuget.org/packages/Akka.Streams/).\n",
    "\n",
    "> PS> Install-Package Akka.Streams\n",
    "\n",
    "And then we need to create an `ActorSystem`, since Akka.Streams uses Akka.NET actors internally."
   ]
  },
  {
   "cell_type": "code",
   "execution_count": 1,
   "metadata": {
    "dotnet_interactive": {
     "language": "csharp"
    },
    "vscode": {
     "languageId": "dotnet-interactive.csharp"
    }
   },
   "outputs": [
    {
     "data": {
      "text/html": [
       "<div><div></div><div></div><div><strong>Installed Packages</strong><ul><li><span>Akka.Streams, 1.4.47</span></li></ul></div></div>"
      ]
     },
     "metadata": {},
     "output_type": "display_data"
    }
   ],
   "source": [
    "#r \"nuget: Akka.Streams, 1.4.47\"\n",
    "using Akka.Actor;\n",
    "\n",
    "var actorSystem = ActorSystem.Create(\"StreamsExample\");"
   ]
  },
  {
   "cell_type": "markdown",
   "metadata": {},
   "source": [
    "Next, we're going to define [the basic components you need in order to run an Akka.NET Stream](https://getakka.net/articles/streams/basics.html#defining-and-running-streams):\n",
    "\n",
    "1. A [`Source<T>` stage](https://getakka.net/api/Akka.Streams.Dsl.Source-2.html), which emits events - something as simple as an `IEnumerable<T>` can be converted into a `Source<T>`.\n",
    "2. Optionally, one or more [`Flow<T>` stages](https://getakka.net/api/Akka.Streams.Dsl.Flow-3.html) which can be used to do all sorts of things: filtering, aggregating, projections, buffering, and so on.\n",
    "3. Finally, a [`Sink<T>` stage](https://getakka.net/api/Akka.Streams.Dsl.Sink-2.html) - which is where the events in the stream complete processing. The simplest way to imagine a `Sink<T>` is as an asychronous `foreach` loop.\n",
    "\n",
    "In this instance, we're going to create a really simple stream using a `List<int>` and some small processors.\n"
   ]
  },
  {
   "cell_type": "code",
   "execution_count": 2,
   "metadata": {
    "dotnet_interactive": {
     "language": "csharp"
    },
    "vscode": {
     "languageId": "dotnet-interactive.csharp"
    }
   },
   "outputs": [],
   "source": [
    "using Akka;\n",
    "using Akka.Streams;\n",
    "using Akka.Streams.Dsl;\n",
    "using System.Collections.Immutable;\n",
    "\n",
    "var ints = new List<int>(){ 1,2,3,4,5,6,7,8,9,19 };\n",
    "\n",
    "\n",
    "// all streams start with one or more sources\n",
    "Source<int, NotUsed> source = Source.From(ints);\n",
    "\n",
    "// create a Flow that accepts an int and produces an int\n",
    "// this Flow filters out any odd-numbered integers\n",
    "Flow<int,int,NotUsed> flow = Flow.Create<int>().Where(x => x % 2 == 0).Async();\n",
    "\n",
    "// create a Sink that will write our integer output to the console\n",
    "Sink<int, Task<IImmutableList<int>>> sink = Sink.Seq<int>();"
   ]
  },
  {
   "cell_type": "markdown",
   "metadata": {},
   "source": [
    "We've just defined three separate Akka.Streams \"stages\" that we are going to connect together into a \"graph\".\n",
    "\n",
    "```\n",
    "Source<int> --> Flow<int> --> Sink<int, Task<IImmutableList<int>>>\n",
    "```\n",
    "\n",
    "As the code is defined right now, these stages can't actually do much - we have to connect them together and then use the \"materializer,\" the Akka.Streams compiler, to create the stream and begin running it.\n",
    "\n",
    "> **N.B.** `NotUsed` is our \"materialization\" value - all streams have the ability to potentailly be materialized into some other usable form, such as a `Task<T>` or an `IActorRef` - depending upon which stages you use and how you compile the stream together.\n",
    "\n",
    "In this case, our stream is going to be materialized into a `Task` which will return an `IImmutableList<int>` that contains all of the values from the `Source<int>` that were not filtered out by the `Flow<int, int>` we connected to it."
   ]
  },
  {
   "cell_type": "code",
   "execution_count": 3,
   "metadata": {
    "dotnet_interactive": {
     "language": "csharp"
    },
    "vscode": {
     "languageId": "dotnet-interactive.csharp"
    }
   },
   "outputs": [
    {
     "name": "stdout",
     "output_type": "stream",
     "text": [
      "2\r\n",
      "4\r\n",
      "6\r\n",
      "8\r\n"
     ]
    }
   ],
   "source": [
    "// create an instance of the materializer from the ActorSystem\n",
    "// this will create the underlying actors as children of the /user root actor.\n",
    "IMaterializer materializer = actorSystem.Materializer();\n",
    "\n",
    "// you can also create materializers in the contexts of other actors, to create those\n",
    "// stream actors as children of those contexts - this has some advantages from an\n",
    "// encapsulation point of view and we'll learn how to do that later on.\n",
    "\n",
    "// connect all of the stream stages together and return the materialized Task\n",
    "// created by our Sink<int, Task<IImmutableList<int>>> stage\n",
    "Task<IImmutableList<int>> allNumsTask = source.Via(flow).RunWith(sink, materializer);\n",
    "\n",
    "IImmutableList<int> allNums = await allNumsTask;\n",
    "\n",
    "foreach(var i in allNums){\n",
    "    Console.WriteLine(\"{0}\", i);\n",
    "}"
   ]
  },
  {
   "cell_type": "markdown",
   "metadata": {},
   "source": [
    "As you can see, only the even numbers are printed. \n",
    "\n",
    "This is a simple but complete Akka.Streams graph:\n",
    "\n",
    "* All of the inputs and outputs are statically typed;\n",
    "* An input can only connect to an output of the same type;\n",
    "* Some stages, such as `Flow<TIn, TOut>` have both an input _and_ an output - those can be _different_ types; and\n",
    "* In order to run the graph, it has to be \"complete\" - meaning that all inputs and outputs are connected.\n",
    "\n",
    "When we make the call to `RunWith` that will cause the materializer to create the actors that are going to run the code defined in your stages. In this example, because the `Source<T>` is just an `IEnumerable<T>` this stream will be a finite stream - meaning it has a definite beginning and end. Once the `Source<int>` reaches the end, the stream will complete and terminate.\n",
    "\n",
    "> Behind the scenes, when we called `RunWith` and passed in an instance of the `IMaterializer` - we actually created one or two actors who ran this workload and then self-terminated once they reached the end of the `IEnumerable<int>` that we used to create our `Source<int>`."
   ]
  }
 ],
 "metadata": {
  "kernelspec": {
   "display_name": ".NET (C#)",
   "language": "C#",
   "name": ".net-csharp"
  },
  "language_info": {
   "name": "C#"
  }
 },
 "nbformat": 4,
 "nbformat_minor": 2
}
