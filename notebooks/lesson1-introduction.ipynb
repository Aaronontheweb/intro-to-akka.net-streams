{
 "metadata": {
  "kernelspec": {
   "display_name": ".NET (C#)",
   "language": "C#",
   "name": ".net-csharp"
  },
  "language_info": {
   "name": "C#"
  }
 },
 "cells": [
  {
   "cell_type": "markdown",
   "source": [
    "# What is Akka.Streams?\r\n",
    "[Akka.Streams](https://getakka.net/articles/streams/introduction.html) is a high-level abstraction built on top of Akka.NET actors; it's general purpose implementation of the [Reactive Streams specification](https://www.reactive-streams.org/) for .NET and offers a [variety of built-in components](https://getakka.net/articles/streams/builtinstages.html), high performance, a succinct LINQ-like syntax, and a highly composable and [customizable development experience](https://getakka.net/articles/streams/custom-stream-processing.html)."
   ],
   "metadata": {}
  },
  {
   "cell_type": "markdown",
   "source": [
    "## A Simple Example\r\n",
    "\r\n",
    "To use Akka.Streams, we only need to install the [Akka.Streams NuGet package](https://www.nuget.org/packages/Akka.Streams/).\r\n",
    "\r\n",
    "> PS> Install-Package Akka.Streams\r\n",
    "\r\n",
    "And then we need to create an `ActorSystem`, since Akka.Streams uses Akka.NET actors internally."
   ],
   "metadata": {}
  },
  {
   "cell_type": "code",
   "execution_count": null,
   "source": [
    "#r \"nuget: Akka.Streams, 1.4.24\"\r\n",
    "using Akka.Actor;\r\n",
    "\r\n",
    "var actorSystem = ActorSystem.Create(\"StreamsExample\");"
   ],
   "outputs": [
    {
     "data": {
      "text/html": [
       "<div><div></div><div></div><div><strong>Installed Packages</strong><ul><li><span>Akka.Streams, 1.4.24</span></li></ul></div></div>"
      ]
     },
     "metadata": {},
     "output_type": "display_data"
    }
   ],
   "metadata": {
    "dotnet_interactive": {
     "language": "csharp"
    }
   }
  },
  {
   "cell_type": "markdown",
   "source": [
    "Next, we're going to define [the basic components you need in order to run an Akka.NET Stream](https://getakka.net/articles/streams/basics.html#defining-and-running-streams):\r\n",
    "\r\n",
    "1. A [`Source<T>` stage](https://getakka.net/api/Akka.Streams.Dsl.Source-2.html), which emits events - something as simple as an `IEnumerable<T>` can be converted into a `Source<T>`.\r\n",
    "2. Optionally, one or more [`Flow<T>` stages](https://getakka.net/api/Akka.Streams.Dsl.Flow-3.html) which can be used to do all sorts of things: filtering, aggregating, projections, buffering, and so on.\r\n",
    "3. Finally, a [`Sink<T>` stage](https://getakka.net/api/Akka.Streams.Dsl.Sink-2.html) - which is where the events in the stream complete processing. The simplest way to imagine a `Sink<T>` is as an asychronous `foreach` loop.\r\n",
    "\r\n",
    "In this instance, we're going to create a really simple stream using a `List<int>` and some small processors.\r\n"
   ],
   "metadata": {}
  },
  {
   "cell_type": "code",
   "execution_count": null,
   "source": [
    "using Akka;\r\n",
    "using Akka.Streams;\r\n",
    "using Akka.Streams.Dsl;\r\n",
    "using System.Collections.Immutable;\r\n",
    "\r\n",
    "var ints = new List<int>(){ 1,2,3,4,5,6,7,8,9,19 };\r\n",
    "\r\n",
    "\r\n",
    "// all streams start with one or more sources\r\n",
    "Source<int, NotUsed> source = Source.From(ints);\r\n",
    "\r\n",
    "// create a Flow that accepts an int and produces an int\r\n",
    "// this Flow filters out any odd-numbered integers\r\n",
    "Flow<int,int,NotUsed> flow = Flow.Create<int>().Where(x => x % 2 == 0);\r\n",
    "\r\n",
    "// create a Sink that will write our integer output to the console\r\n",
    "Sink<int, Task<IImmutableList<int>>> sink = Sink.Seq<int>();"
   ],
   "outputs": [],
   "metadata": {
    "dotnet_interactive": {
     "language": "csharp"
    }
   }
  },
  {
   "cell_type": "markdown",
   "source": [
    "We've just defined three separate Akka.Streams \"stages\" that we are going to connect together into a \"graph\".\r\n",
    "\r\n",
    "```\r\n",
    "Source<int> --> Flow<int> --> Sink<int, Task<IImmutableList<int>>>\r\n",
    "```\r\n",
    "\r\n",
    "As the code is defined right now, these stages can't actually do much - we have to connect them together and then use the \"materializer,\" the Akka.Streams compiler, to create the stream and begin running it.\r\n",
    "\r\n",
    "> **N.B.** `NotUsed` is our \"materialization\" value - all streams have the ability to potentailly be materialized into some other usable form, such as a `Task<T>` or an `IActorRef` - depending upon which stages you use and how you compile the stream together.\r\n",
    "\r\n",
    "In this case, our stream is going to be materialized into a `Task` which will return an `IImmutableList<int>` that contains all of the values from the `Source<int>` that were not filtered out by the `Flow<int, int>` we connected to it."
   ],
   "metadata": {}
  },
  {
   "cell_type": "code",
   "execution_count": null,
   "source": [
    "// create an instance of the materializer from the ActorSystem\r\n",
    "// this will create the underlying actors as children of the /user root actor.\r\n",
    "IMaterializer materializer = actorSystem.Materializer();\r\n",
    "\r\n",
    "// you can also create materializers in the contexts of other actors, to create those\r\n",
    "// stream actors as children of those contexts - this has some advantages from an\r\n",
    "// encapsulation point of view and we'll learn how to do that later on.\r\n",
    "\r\n",
    "// connect all of the stream stages together and return the materialized Task\r\n",
    "// created by our Sink<int, Task<IImmutableList<int>>> stage\r\n",
    "Task<IImmutableList<int>> allNumsTask = source.Via(flow).RunWith(sink, materializer);\r\n",
    "\r\n",
    "IImmutableList<int> allNums = await allNumsTask;\r\n",
    "\r\n",
    "foreach(var i in allNums){\r\n",
    "    Console.WriteLine(\"{0}\", i);\r\n",
    "}"
   ],
   "outputs": [
    {
     "output_type": "stream",
     "name": "stdout",
     "text": [
      "2\r\n",
      "4\r\n",
      "6\r\n",
      "8\r\n"
     ]
    }
   ],
   "metadata": {
    "dotnet_interactive": {
     "language": "csharp"
    }
   }
  },
  {
   "cell_type": "markdown",
   "source": [
    "Behind the scenes, when we called `RunWith` and passed in an instance of the `IMaterializer` - we actually created one or two actors who ran this workload and then self-terminated once they reached the end of the `IEnumerable<int>` that we used to create our `Source<int>`."
   ],
   "metadata": {}
  }
 ],
 "nbformat": 4,
 "nbformat_minor": 2
}