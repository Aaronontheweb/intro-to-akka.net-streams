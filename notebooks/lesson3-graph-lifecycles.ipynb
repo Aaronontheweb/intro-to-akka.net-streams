{
 "metadata": {
  "kernelspec": {
   "display_name": ".NET (C#)",
   "language": "C#",
   "name": ".net-csharp"
  },
  "language_info": {
   "name": "C#"
  }
 },
 "cells": [
  {
   "cell_type": "markdown",
   "source": [
    "# Akka.Streams Graph Lifecycles\r\n",
    "Just like how Akka.NET actors have discrete lifecycles, so do Akka.Streams graphs!\r\n",
    "\r\n",
    "* **Running** – the stream is currently processing elements and has not run out of elements to process.\r\n",
    "* **Completed** – the stream has terminated because:\r\n",
    "    * The `Source<T>` ran out of elements or\r\n",
    "    * One or more downstream stages signaled completion.\r\n",
    "* **Failed** – the stream terminated because an error was thrown in one of the stages.\r\n",
    "\r\n",
    "Let's consider some examples.\r\n",
    "\r\n",
    "## Completed Streams\r\n",
    "A stream completes usually when it's completed processing all possible inputs - or if one of the graph stages signals that it wants to terminate, i.e. a [`KillSwitch`](https://getakka.net/api/Akka.Streams.IKillSwitch.html)."
   ],
   "metadata": {}
  },
  {
   "cell_type": "code",
   "execution_count": null,
   "source": [
    "#r \"nuget: Akka.Streams, 1.4.24\"\r\n",
    "#r \"nuget: Akka.Streams.IAsyncEnumerable, 0.1.0\"\r\n",
    "\r\n",
    "using System.Linq;\r\n",
    "using System.Collections.Immutable;\r\n",
    "using Akka;\r\n",
    "using Akka.Actor;\r\n",
    "using Akka.Streams;\r\n",
    "using Akka.Streams.Dsl;\r\n",
    "\r\n",
    "ActorSystem actorSystem = ActorSystem.Create(\"StreamsExample\");\r\n",
    "\r\n",
    "IMaterializer materializer = actorSystem.Materializer();\r\n",
    "\r\n",
    "// a source representing a range of integers\r\n",
    "Source<int, NotUsed> source1 = Source.From(Enumerable.Range(1, 10));\r\n",
    "\r\n",
    "// a source representing a single string value\r\n",
    "Source<string, NotUsed> source2 = Source.Single(\"a\");\r\n",
    "\r\n",
    "// let's combine these two sources such that we create 10 int / string tuples\r\n",
    "IAsyncEnumerable<(int i, string s)> merged1 = source1.Zip(source2).RunAsAsyncEnumerable(materializer);\r\n",
    "\r\n",
    "await foreach(var (i, s) in merged1){\r\n",
    "    Console.WriteLine($\"{i}-->{s}\");\r\n",
    "}"
   ],
   "outputs": [
    {
     "data": {
      "text/html": [
       "<div><div></div><div></div><div><strong>Installed Packages</strong><ul><li><span>Akka.Streams, 1.4.24</span></li><li><span>Akka.Streams.IAsyncEnumerable, 0.1.0</span></li></ul></div></div>"
      ]
     },
     "metadata": {},
     "output_type": "display_data"
    },
    {
     "output_type": "stream",
     "name": "stdout",
     "text": [
      "1-->a\r\n"
     ]
    }
   ],
   "metadata": {
    "dotnet_interactive": {
     "language": "csharp"
    }
   }
  },
  {
   "cell_type": "markdown",
   "source": [
    "This stream terminated with a single output, despite the fact that we had `source1` defined as \r\n",
    "\r\n",
    "```csharp\r\n",
    "Source<int, NotUsed> source1 = Source.From(Enumerable.Range(1, 10));\r\n",
    "```\r\n",
    "\r\n",
    "Which is at least 10 elements! What gives?\r\n",
    "\r\n",
    "Well in this case, it's because we combined `source1` with `source2`, which is defined as\r\n",
    "\r\n",
    "```csharp\r\n",
    "Source<string, NotUsed> source2 = Source.Single(\"a\");\r\n",
    "```\r\n",
    "\r\n",
    "A single element! So due to the semantics of how the `Zip<T>` stage works - it will \"complete\" once at least one of its upstream `Source<T>`s completes, the entire stream terminates with a single output.\r\n",
    "\r\n",
    "So how could we fix this in order to ensure that we had all 10 outputs from `source1` get rendered?"
   ],
   "metadata": {}
  },
  {
   "cell_type": "code",
   "execution_count": null,
   "source": [
    "// a source representing a single string value\r\n",
    "// BUT this source will be repeated each time a downstream requests it.\r\n",
    "Source<string, NotUsed> source3 = Source.Repeat(\"a\");\r\n",
    "\r\n",
    "// let's combine these two sources such that we create 10 int / string tuples\r\n",
    "IAsyncEnumerable<(int i, string s)> merged1 = source1.Zip(source3).RunAsAsyncEnumerable(materializer);\r\n",
    "\r\n",
    "await foreach(var (i, s) in merged1){\r\n",
    "    Console.WriteLine($\"{i}-->{s}\");\r\n",
    "}"
   ],
   "outputs": [
    {
     "output_type": "stream",
     "name": "stdout",
     "text": [
      "1-->a\r\n",
      "2-->a\r\n",
      "3-->a\r\n",
      "4-->a\r\n",
      "5-->a\r\n",
      "6-->a\r\n",
      "7-->a\r\n",
      "8-->a\r\n",
      "9-->a\r\n",
      "10-->a\r\n"
     ]
    }
   ],
   "metadata": {
    "dotnet_interactive": {
     "language": "csharp"
    }
   }
  },
  {
   "cell_type": "markdown",
   "source": [
    "Now we've had all 10 values from `source1` written out, all because we changed to a new `Source<T>` that had different semantics.\r\n",
    "\r\n",
    "> **N.B.** This type of use case is exactly why it's a good idea to read \"[Overview of Built-In Akka.Streams Stages and Their Semantics](https://getakka.net/articles/streams/builtinstages.html)\" as it spells out exactly how these streams stages work with regard to lifetime, completion order, and so on."
   ],
   "metadata": {}
  },
  {
   "cell_type": "markdown",
   "source": [
    "## Infinite Streams\r\n",
    "Many of the examples we've used so far have been for \"finite\" streams - where the number of possible inputs and outputs can be determined ahead of actually running the code.\r\n",
    "\r\n",
    "I.e. when we create a `Source<int>` from a `List<int>`, we know how many items in the `List<int>` will need to be processed before we reach the end. That's an example of a finite stream.\r\n",
    "\r\n",
    "An infinite stream, on the other hand, is unbounded - it has no discrete end, so it runs until it's told to terminate via some external or internal signal such as an `IKillSwitch`."
   ],
   "metadata": {}
  },
  {
   "cell_type": "code",
   "execution_count": null,
   "source": [
    "// create a source that will be materialized into an IActorRef\r\n",
    "Source<string, IActorRef> actorSource = Source.ActorRef<string>(1000, OverflowStrategy.DropTail);\r\n",
    "var (preMaterializedRef, standAloneSrc) = actorSource.PreMaterialize(materializer);\r\n",
    "\r\n",
    "// materialize the rest of the stream into an IAsyncEnumerable\r\n",
    "IAsyncEnumerable<string> strResponses = standAloneSrc.Via(Flow.Create<string>().Select(x => x.ToLowerInvariant())).RunAsAsyncEnumerable(materializer);\r\n",
    "\r\n",
    "// send some messages to our head actor to drive the stream\r\n",
    "preMaterializedRef.Tell(\"HIT1\");\r\n",
    "preMaterializedRef.Tell(\"HIT2\");\r\n",
    "preMaterializedRef.Tell(\"HIT3\");\r\n",
    "\r\n",
    "await foreach(var str in strResponses){\r\n",
    "    Console.WriteLine(str);\r\n",
    "}"
   ],
   "outputs": [],
   "metadata": {
    "dotnet_interactive": {
     "language": "csharp"
    }
   }
  }
 ],
 "nbformat": 4,
 "nbformat_minor": 2
}