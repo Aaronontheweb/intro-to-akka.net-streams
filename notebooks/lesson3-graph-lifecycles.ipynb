{
 "metadata": {
  "kernelspec": {
   "display_name": ".NET (C#)",
   "language": "C#",
   "name": ".net-csharp"
  },
  "language_info": {
   "name": "C#"
  }
 },
 "cells": [
  {
   "cell_type": "markdown",
   "source": [
    "# Akka.Streams Graph Lifecycles\r\n",
    "Just like how Akka.NET actors have discrete lifecycles, so do Akka.Streams graphs!\r\n",
    "\r\n",
    "* **Running** – the stream is currently processing elements and has not run out of elements to process.\r\n",
    "* **Completed** – the stream has terminated because:\r\n",
    "    * The `Source<T>` ran out of elements or\r\n",
    "    * One or more downstream stages signaled completion.\r\n",
    "* **Failed** – the stream terminated because an error was thrown in one of the stages.\r\n",
    "\r\n",
    "Let's consider some examples.\r\n",
    "\r\n",
    "## Completed Streams\r\n",
    "A stream completes usually when it's completed processing all possible inputs - or if one of the graph stages signals that it wants to terminate, i.e. a [`KillSwitch`](https://getakka.net/api/Akka.Streams.IKillSwitch.html)."
   ],
   "metadata": {}
  }
 ],
 "nbformat": 4,
 "nbformat_minor": 2
}