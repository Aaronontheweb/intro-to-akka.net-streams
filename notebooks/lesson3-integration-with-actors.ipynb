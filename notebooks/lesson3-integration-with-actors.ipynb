{
 "metadata": {
  "kernelspec": {
   "display_name": ".NET (C#)",
   "language": "C#",
   "name": ".net-csharp"
  },
  "language_info": {
   "name": "C#"
  }
 },
 "cells": [
  {
   "cell_type": "markdown",
   "source": [
    "# Akka.Streams Integration with Akka.NET Actors\r\n",
    "Behind the scenes, all Akka.Streams graphs are ultimately compiled via the `IMaterializer` into one or more Akka.NET actors. Thus there are a number of ways Akka.Streams can integrate with Akka.NET actors in real-world use."
   ],
   "metadata": {}
  },
  {
   "cell_type": "markdown",
   "source": [
    "## Integration with Actors in Flows\r\n",
    "Using techniques such as the `Ask<TResult>` method in Akka.NET, we can incorporate actors directly inside built-in Akka.Streams flows without much code."
   ],
   "metadata": {}
  },
  {
   "cell_type": "code",
   "execution_count": null,
   "source": [
    "#r \"nuget: Akka.Streams, 1.4.24\"\r\n",
    "#r \"nuget: Akka.Streams.IAsyncEnumerable, 0.1.0\"\r\n",
    "\r\n",
    "using System.Linq;\r\n",
    "using System.Collections.Immutable;\r\n",
    "using Akka;\r\n",
    "using Akka.Actor;\r\n",
    "using Akka.Streams;\r\n",
    "using Akka.Streams.Dsl;\r\n",
    "\r\n",
    "ActorSystem actorSystem = ActorSystem.Create(\"StreamsExample\");\r\n",
    "\r\n",
    "IMaterializer materializer = actorSystem.Materializer();\r\n",
    "\r\n",
    "// create a simple actor that performs some modulus\r\n",
    "public class MyActor : ReceiveActor{\r\n",
    "    public MyActor(){\r\n",
    "        // returns a (i, i mod 2) ValueTuple\r\n",
    "        Receive<int>(i => Sender.Tell((i, i % 2)));\r\n",
    "    }\r\n",
    "}\r\n",
    "\r\n",
    "IActorRef myActorRef = actorSystem.ActorOf(Props.Create(() => new MyActor()), \"myactor\");"
   ],
   "outputs": [
    {
     "data": {
      "text/html": [
       "<div><div></div><div></div><div><strong>Installed Packages</strong><ul><li><span>Akka.Streams, 1.4.24</span></li><li><span>Akka.Streams.IAsyncEnumerable, 0.1.0</span></li></ul></div></div>"
      ]
     },
     "metadata": {},
     "output_type": "display_data"
    }
   ],
   "metadata": {
    "dotnet_interactive": {
     "language": "csharp"
    }
   }
  },
  {
   "cell_type": "markdown",
   "source": [
    "In this instance, we've created a simple `ReceiveActor` that will perform a bit of modulus. Let's integrate it inside a simple graph and see how it works."
   ],
   "metadata": {}
  },
  {
   "cell_type": "code",
   "execution_count": null,
   "source": [
    "// create 10,000 integers\r\n",
    "Source<int,NotUsed> source = Source.From(Enumerable.Range(0, 10));\r\n",
    "\r\n",
    "// allow up to 10 parallel asks of our actor\r\n",
    "var askFlow = Flow.Create<int>().SelectAsync(10, i => myActorRef.Ask<(int value, int mod)>(i, TimeSpan.FromSeconds(3)));\r\n",
    "\r\n",
    "// create a flow that does the following:\r\n",
    "// int --> is even number? --> keep only even numbers --> count total even numbers\r\n",
    "IAsyncEnumerable<int> graph = source.Via(askFlow).Where(d => d.mod == 0).Select(x => x.value).RunAsAsyncEnumerable(materializer);\r\n",
    "\r\n",
    "await foreach(var i in graph){\r\n",
    "    Console.WriteLine(i);\r\n",
    "}"
   ],
   "outputs": [
    {
     "output_type": "stream",
     "name": "stdout",
     "text": [
      "0\r\n",
      "2\r\n",
      "4\r\n",
      "6\r\n",
      "8\r\n",
      "10\r\n",
      "12\r\n",
      "14\r\n",
      "16\r\n",
      "18\r\n",
      "20\r\n",
      "22\r\n",
      "24\r\n",
      "26\r\n",
      "28\r\n",
      "30\r\n",
      "32\r\n",
      "34\r\n",
      "36\r\n",
      "38\r\n",
      "40\r\n",
      "42\r\n",
      "44\r\n",
      "46\r\n",
      "48\r\n",
      "50\r\n",
      "52\r\n",
      "54\r\n",
      "56\r\n",
      "58\r\n",
      "60\r\n",
      "62\r\n",
      "64\r\n",
      "66\r\n",
      "68\r\n",
      "70\r\n",
      "72\r\n",
      "74\r\n",
      "76\r\n",
      "78\r\n",
      "80\r\n",
      "82\r\n",
      "84\r\n",
      "86\r\n",
      "88\r\n",
      "90\r\n",
      "92\r\n",
      "94\r\n",
      "96\r\n",
      "98\r\n"
     ]
    }
   ],
   "metadata": {
    "dotnet_interactive": {
     "language": "csharp"
    }
   }
  }
 ],
 "nbformat": 4,
 "nbformat_minor": 2
}