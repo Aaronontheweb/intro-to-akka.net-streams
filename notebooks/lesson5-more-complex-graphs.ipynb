{
 "cells": [
  {
   "cell_type": "markdown",
   "metadata": {},
   "source": [
    "# More Complex Graph Types\n",
    "In addition to simple linear graphs, Akka.Streams also allows for more complex graphs - including the merging of `Source<T>` / `Sink<T>` stages and splitting output from `Flow<T>`.\n",
    "\n",
    "## Fan-In Stages\n",
    "Stages that combine multiple `Source<T>`s together are called [\"fan-in\" stages](https://getakka.net/articles/streams/builtinstages.html#fan-in-stages) and they can be used to combine multiple data sources together into contiguous streams."
   ]
  },
  {
   "cell_type": "code",
   "execution_count": 1,
   "metadata": {
    "dotnet_interactive": {
     "language": "csharp"
    },
    "vscode": {
     "languageId": "dotnet-interactive.csharp"
    }
   },
   "outputs": [
    {
     "data": {
      "text/html": [
       "<div><div></div><div></div><div><strong>Installed Packages</strong><ul><li><span>Akka.Streams, 1.4.47</span></li></ul></div></div>"
      ]
     },
     "metadata": {},
     "output_type": "display_data"
    },
    {
     "name": "stdout",
     "output_type": "stream",
     "text": [
      "1-->a\r\n"
     ]
    }
   ],
   "source": [
    "#r \"nuget: Akka.Streams, 1.4.47\"\n",
    "\n",
    "using System.Linq;\n",
    "using System.Collections.Immutable;\n",
    "using Akka;\n",
    "using Akka.Actor;\n",
    "using Akka.Streams;\n",
    "using Akka.Streams.Dsl;\n",
    "\n",
    "ActorSystem actorSystem = ActorSystem.Create(\"StreamsExample\");\n",
    "\n",
    "IMaterializer materializer = actorSystem.Materializer();\n",
    "\n",
    "// a source representing a range of integers\n",
    "Source<int, NotUsed> source1 = Source.From(Enumerable.Range(1, 10));\n",
    "\n",
    "// a source representing a single string value\n",
    "Source<string, NotUsed> source2 = Source.Single(\"a\");\n",
    "\n",
    "// let's combine these two sources such that we create 10 int / string tuples\n",
    "IAsyncEnumerable<(int i, string s)> merged1 = source1.Zip(source2).RunAsAsyncEnumerable(materializer);\n",
    "\n",
    "await foreach(var (i, s) in merged1){\n",
    "    Console.WriteLine($\"{i}-->{s}\");\n",
    "}\n"
   ]
  },
  {
   "cell_type": "markdown",
   "metadata": {},
   "source": [
    "You'll notice that we only produced a single output with code sample above:\n",
    "\n",
    "```\n",
    "1-->a\n",
    "```\n",
    "\n",
    "That's because our `Source.Single` can only produce a single element before it's completed - if we change this graph to use a `Source.Repeat` instead, we can fully populate this list."
   ]
  },
  {
   "cell_type": "code",
   "execution_count": null,
   "metadata": {
    "dotnet_interactive": {
     "language": "csharp"
    },
    "vscode": {
     "languageId": "dotnet-interactive.csharp"
    }
   },
   "outputs": [
    {
     "name": "stdout",
     "output_type": "stream",
     "text": [
      "1-->a\r\n",
      "2-->a\r\n",
      "3-->a\r\n",
      "4-->a\r\n",
      "5-->a\r\n",
      "6-->a\r\n",
      "7-->a\r\n",
      "8-->a\r\n",
      "9-->a\r\n",
      "10-->a\r\n"
     ]
    }
   ],
   "source": [
    "// REPEAT this value each time we're pulled\n",
    "Source<string, NotUsed> source3 = Source.Repeat(\"a\");\n",
    "\n",
    "// let's combine these two sources such that we create 10 int / string tuples\n",
    "IAsyncEnumerable<(int i, string s)> merged1 = source1.Zip(source3).RunAsAsyncEnumerable(materializer);\n",
    "\n",
    "await foreach(var (i, s) in merged1){\n",
    "    Console.WriteLine($\"{i}-->{s}\");\n",
    "}"
   ]
  },
  {
   "cell_type": "markdown",
   "metadata": {},
   "source": [
    "## Fan-Out Stages\n",
    "In addition to fanning-in data from multiple sources into a single stream, it's also possible to pipe output from one `Source<T>` to multiple substreams using a fanout stage!"
   ]
  },
  {
   "cell_type": "code",
   "execution_count": null,
   "metadata": {
    "dotnet_interactive": {
     "language": "csharp"
    },
    "vscode": {
     "languageId": "dotnet-interactive.csharp"
    }
   },
   "outputs": [
    {
     "name": "stdout",
     "output_type": "stream",
     "text": [
      "Total is 45\r\n",
      "0 is even\r\n",
      "1 is odd\r\n",
      "2 is even\r\n",
      "3 is odd\r\n",
      "4 is even\r\n",
      "5 is odd\r\n",
      "6 is even\r\n",
      "7 is odd\r\n",
      "8 is even\r\n",
      "9 is odd\r\n"
     ]
    }
   ],
   "source": [
    "// create a source of 1-10\n",
    "Source<int, NotUsed> sharedSource = Source.From(Enumerable.Range(0,10));\n",
    "\n",
    "// create a substream that will print out even / odd status\n",
    "var (completeStatus, statusSink) = Sink.Seq<string>().PreMaterialize(materializer);\n",
    "\n",
    "// create a substream that prints out the even / odd status of each number\n",
    "Sink<int, NotUsed> numFlow = Flow.Create<int>().Select(x => x % 2 == 0 ? $\"{x} is even\" : $\"{x} is odd\").To(statusSink);\n",
    "\n",
    "// create a substream that will compute sum of all numbers\n",
    "var (completeSum, sumSink) = Sink.Sum<int>((i, n) => i + n).PreMaterialize(materializer);\n",
    "\n",
    "// pipe the source to both streams\n",
    "sharedSource.AlsoTo(sumSink).To(numFlow).Run(materializer);\n",
    "\n",
    "// await on the materialized tasks - both will complete at same time\n",
    "int finalSum = await completeSum;\n",
    "Console.WriteLine($\"Total is {finalSum}\");\n",
    "\n",
    "IImmutableList<string> statuses = await completeStatus;\n",
    "foreach(var s in statuses){\n",
    "    Console.WriteLine(s);\n",
    "}"
   ]
  },
  {
   "cell_type": "markdown",
   "metadata": {},
   "source": [
    "In this case we're using the `AlsoTo` method to allow the `Source<TOut, TMat>` to pipe its output to both substreams (which have to be of type `Sink<TOut, TMat>`) - thus we can extract both kinds of output concurrently in the same execution."
   ]
  }
 ],
 "metadata": {
  "kernelspec": {
   "display_name": ".NET (C#)",
   "language": "C#",
   "name": ".net-csharp"
  },
  "language_info": {
   "file_extension": ".cs",
   "mimetype": "text/x-csharp",
   "name": "C#",
   "pygments_lexer": "csharp",
   "version": "9.0"
  }
 },
 "nbformat": 4,
 "nbformat_minor": 2
}
