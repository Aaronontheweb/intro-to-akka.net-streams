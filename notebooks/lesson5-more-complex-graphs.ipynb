{
 "cells": [
  {
   "cell_type": "markdown",
   "metadata": {},
   "source": [
    "# More Complex Graph Types\r\n",
    "In addition to simple linear graphs, Akka.Streams also allows for more complex graphs - including the merging of `Source<T>` / `Sink<T>` stages and splitting output from `Flow<T>`.\r\n",
    "\r\n",
    "## Fan-In Stages\r\n",
    "Stages that combine multiple `Source<T>`s together are called [\"fan-in\" stages](https://getakka.net/articles/streams/builtinstages.html#fan-in-stages) and they can be used to combine multiple data sources together into contiguous streams."
   ]
  },
  {
   "cell_type": "code",
   "execution_count": null,
   "metadata": {
    "dotnet_interactive": {
     "language": "csharp"
    }
   },
   "outputs": [
    {
     "data": {
      "text/plain": "Installed package Akka.Streams version 1.4.24"
     },
     "output_type": "unknown"
    },
    {
     "data": {
      "text/plain": "Installed package Akka.Streams.IAsyncEnumerable version 0.1.0"
     },
     "output_type": "unknown"
    },
    {
     "data": {
      "text/plain": "1-->a\r\n"
     },
     "output_type": "unknown"
    }
   ],
   "source": [
    "#r \"nuget: Akka.Streams, 1.4.24\"\r\n",
    "#r \"nuget: Akka.Streams.IAsyncEnumerable, 0.1.0\"\r\n",
    "\r\n",
    "using System.Linq;\r\n",
    "using System.Collections.Immutable;\r\n",
    "using Akka;\r\n",
    "using Akka.Actor;\r\n",
    "using Akka.Streams;\r\n",
    "using Akka.Streams.Dsl;\r\n",
    "\r\n",
    "ActorSystem actorSystem = ActorSystem.Create(\"StreamsExample\");\r\n",
    "\r\n",
    "IMaterializer materializer = actorSystem.Materializer();\r\n",
    "\r\n",
    "// a source representing a range of integers\r\n",
    "Source<int, NotUsed> source1 = Source.From(Enumerable.Range(1, 10));\r\n",
    "\r\n",
    "// a source representing a single string value\r\n",
    "Source<string, NotUsed> source2 = Source.Single(\"a\");\r\n",
    "\r\n",
    "// let's combine these two sources such that we create 10 int / string tuples\r\n",
    "IAsyncEnumerable<(int i, string s)> merged1 = source1.Zip(source2).RunAsAsyncEnumerable(materializer);\r\n",
    "\r\n",
    "await foreach(var (i, s) in merged1){\r\n",
    "    Console.WriteLine($\"{i}-->{s}\");\r\n",
    "}\r\n"
   ]
  },
  {
   "cell_type": "markdown",
   "metadata": {},
   "source": [
    "You'll notice that we only produced a single output with code sample above:\r\n",
    "\r\n",
    "```\r\n",
    "1-->a\r\n",
    "```\r\n",
    "\r\n",
    "That's because our `Source.Single` can only produce a single element before it's completed - if we change this graph to use a `Source.Repeat` instead, we can fully populate this list."
   ]
  },
  {
   "cell_type": "code",
   "execution_count": null,
   "metadata": {
    "dotnet_interactive": {
     "language": "csharp"
    }
   },
   "outputs": [
    {
     "data": {
      "text/plain": "1-->a\r\n"
     },
     "output_type": "unknown"
    },
    {
     "data": {
      "text/plain": "2-->a\r\n"
     },
     "output_type": "unknown"
    },
    {
     "data": {
      "text/plain": "3-->a\r\n"
     },
     "output_type": "unknown"
    },
    {
     "data": {
      "text/plain": "4-->a\r\n"
     },
     "output_type": "unknown"
    },
    {
     "data": {
      "text/plain": "5-->a\r\n"
     },
     "output_type": "unknown"
    },
    {
     "data": {
      "text/plain": "6-->a\r\n"
     },
     "output_type": "unknown"
    },
    {
     "data": {
      "text/plain": "7-->a\r\n"
     },
     "output_type": "unknown"
    },
    {
     "data": {
      "text/plain": "8-->a\r\n"
     },
     "output_type": "unknown"
    },
    {
     "data": {
      "text/plain": "9-->a\r\n"
     },
     "output_type": "unknown"
    },
    {
     "data": {
      "text/plain": "10-->a\r\n"
     },
     "output_type": "unknown"
    }
   ],
   "source": [
    "// REPEAT this value each time we're pulled\r\n",
    "Source<string, NotUsed> source3 = Source.Repeat(\"a\");\r\n",
    "\r\n",
    "// let's combine these two sources such that we create 10 int / string tuples\r\n",
    "IAsyncEnumerable<(int i, string s)> merged1 = source1.Zip(source3).RunAsAsyncEnumerable(materializer);\r\n",
    "\r\n",
    "await foreach(var (i, s) in merged1){\r\n",
    "    Console.WriteLine($\"{i}-->{s}\");\r\n",
    "}"
   ]
  },
  {
   "cell_type": "markdown",
   "metadata": {},
   "source": [
    "## Fan-Out Stages\r\n",
    "In addition to fanning-in data from multiple sources into a single stream, it's also possible to pipe output from one `Source<T>` to multiple substreams using a fanout stage!"
   ]
  },
  {
   "cell_type": "code",
   "execution_count": null,
   "metadata": {
    "dotnet_interactive": {
     "language": "csharp"
    }
   },
   "outputs": [
    {
     "data": {
      "text/plain": "Total is 45\r\n"
     },
     "output_type": "unknown"
    },
    {
     "data": {
      "text/plain": "0 is even\r\n"
     },
     "output_type": "unknown"
    },
    {
     "data": {
      "text/plain": "1 is odd\r\n"
     },
     "output_type": "unknown"
    },
    {
     "data": {
      "text/plain": "2 is even\r\n"
     },
     "output_type": "unknown"
    },
    {
     "data": {
      "text/plain": "3 is odd\r\n"
     },
     "output_type": "unknown"
    },
    {
     "data": {
      "text/plain": "4 is even\r\n"
     },
     "output_type": "unknown"
    },
    {
     "data": {
      "text/plain": "5 is odd\r\n"
     },
     "output_type": "unknown"
    },
    {
     "data": {
      "text/plain": "6 is even\r\n"
     },
     "output_type": "unknown"
    },
    {
     "data": {
      "text/plain": "7 is odd\r\n"
     },
     "output_type": "unknown"
    },
    {
     "data": {
      "text/plain": "8 is even\r\n"
     },
     "output_type": "unknown"
    },
    {
     "data": {
      "text/plain": "9 is odd\r\n"
     },
     "output_type": "unknown"
    }
   ],
   "source": [
    "// create a source of 1-10\r\n",
    "Source<int, NotUsed> sharedSource = Source.From(Enumerable.Range(0,10));\r\n",
    "\r\n",
    "// create a substream that will print out even / odd status\r\n",
    "var (completeStatus, statusSink) = Sink.Seq<string>().PreMaterialize(materializer);\r\n",
    "\r\n",
    "// create a substream that prints out the even / odd status of each number\r\n",
    "Sink<int, NotUsed> numFlow = Flow.Create<int>().Select(x => x % 2 == 0 ? $\"{x} is even\" : $\"{x} is odd\").To(statusSink);\r\n",
    "\r\n",
    "// create a substream that will compute sum of all numbers\r\n",
    "var (completeSum, sumSink) = Sink.Sum<int>((i, n) => i + n).PreMaterialize(materializer);\r\n",
    "\r\n",
    "// pipe the source to both streams\r\n",
    "sharedSource.AlsoTo(sumSink).To(numFlow).Run(materializer);\r\n",
    "\r\n",
    "// await on the materialized tasks - both will complete at same time\r\n",
    "int finalSum = await completeSum;\r\n",
    "Console.WriteLine($\"Total is {finalSum}\");\r\n",
    "\r\n",
    "IImmutableList<string> statuses = await completeStatus;\r\n",
    "foreach(var s in statuses){\r\n",
    "    Console.WriteLine(s);\r\n",
    "}"
   ]
  },
  {
   "cell_type": "markdown",
   "metadata": {},
   "source": [
    "In this case we're using the `AlsoTo` method to allow the `Source<TOut, TMat>` to pipe its output to both substreams (which have to be of type `Sink<TOut, TMat>`) - thus we can extract both kinds of output concurrently in the same execution."
   ]
  }
 ],
 "metadata": {
  "kernelspec": {
   "display_name": ".NET (C#)",
   "language": "C#",
   "name": ".net-csharp"
  },
  "language_info": {
   "file_extension": ".cs",
   "mimetype": "text/x-csharp",
   "name": "C#",
   "pygments_lexer": "csharp",
   "version": "9.0"
  }
 },
 "nbformat": 4,
 "nbformat_minor": 2
}