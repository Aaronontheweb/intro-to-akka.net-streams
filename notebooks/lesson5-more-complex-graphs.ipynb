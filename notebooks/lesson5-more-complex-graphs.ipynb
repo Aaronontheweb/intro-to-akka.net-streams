{
 "metadata": {
  "kernelspec": {
   "display_name": ".NET (C#)",
   "language": "C#",
   "name": ".net-csharp"
  },
  "language_info": {
   "name": "C#"
  }
 },
 "cells": [
  {
   "cell_type": "markdown",
   "source": [
    "# More Complex Graph Types\r\n",
    "In addition to simple linear graphs, Akka.Streams also allows for more complex graphs - including the merging of `Source<T>` / `Sink<T>` stages and splitting output from `Flow<T>`.\r\n",
    "\r\n",
    "## Fan-In Stages\r\n",
    "Stages that combine multiple `Source<T>`s together are called [\"fan-in\" stages](https://getakka.net/articles/streams/builtinstages.html#fan-in-stages) and they can be used to combine multiple data sources together into contiguous streams."
   ],
   "metadata": {}
  },
  {
   "cell_type": "code",
   "execution_count": null,
   "source": [
    "#r \"nuget: Akka.Streams, 1.4.24\"\r\n",
    "#r \"nuget: Akka.Streams.IAsyncEnumerable, 0.1.0\"\r\n",
    "\r\n",
    "using System.Linq;\r\n",
    "using System.Collections.Immutable;\r\n",
    "using Akka;\r\n",
    "using Akka.Actor;\r\n",
    "using Akka.Streams;\r\n",
    "using Akka.Streams.Dsl;\r\n",
    "\r\n",
    "ActorSystem actorSystem = ActorSystem.Create(\"StreamsExample\");\r\n",
    "\r\n",
    "IMaterializer materializer = actorSystem.Materializer();\r\n",
    "\r\n",
    "// a source representing a range of integers\r\n",
    "Source<int, NotUsed> source1 = Source.From(Enumerable.Range(1, 10));\r\n",
    "\r\n",
    "// a source representing a single string value\r\n",
    "Source<string, NotUsed> source2 = Source.Single(\"a\");\r\n",
    "\r\n",
    "// let's combine these two sources such that we create 10 int / string tuples\r\n",
    "IAsyncEnumerable<(int i, string s)> merged1 = source1.Zip(source2).RunAsAsyncEnumerable(materializer);\r\n",
    "\r\n",
    "await foreach(var (i, s) in merged1){\r\n",
    "    Console.WriteLine($\"{i}-->{s}\");\r\n",
    "}\r\n"
   ],
   "outputs": [
    {
     "data": {
      "text/html": [
       "<div><div></div><div></div><div><strong>Installed Packages</strong><ul><li><span>Akka.Streams, 1.4.24</span></li><li><span>Akka.Streams.IAsyncEnumerable, 0.1.0</span></li></ul></div></div>"
      ]
     },
     "metadata": {},
     "output_type": "display_data"
    },
    {
     "output_type": "stream",
     "name": "stdout",
     "text": [
      "1-->a\r\n"
     ]
    }
   ],
   "metadata": {
    "dotnet_interactive": {
     "language": "csharp"
    }
   }
  },
  {
   "cell_type": "markdown",
   "source": [
    "You'll notice that we only produced a single output with code sample above:\r\n",
    "\r\n",
    "```\r\n",
    "1-->a\r\n",
    "```\r\n",
    "\r\n",
    "That's because our `Source.Single` can only produce a single element before it's completed - if we change this graph to use a `Source.Repeat` instead, we can fully populate this list."
   ],
   "metadata": {}
  },
  {
   "cell_type": "code",
   "execution_count": null,
   "source": [
    "// REPEAT this value each time we're pulled\r\n",
    "Source<string, NotUsed> source3 = Source.Repeat(\"a\");\r\n",
    "\r\n",
    "// let's combine these two sources such that we create 10 int / string tuples\r\n",
    "IAsyncEnumerable<(int i, string s)> merged1 = source1.Zip(source3).RunAsAsyncEnumerable(materializer);\r\n",
    "\r\n",
    "await foreach(var (i, s) in merged1){\r\n",
    "    Console.WriteLine($\"{i}-->{s}\");\r\n",
    "}"
   ],
   "outputs": [
    {
     "output_type": "stream",
     "name": "stdout",
     "text": [
      "1-->a\r\n",
      "2-->a\r\n",
      "3-->a\r\n",
      "4-->a\r\n",
      "5-->a\r\n",
      "6-->a\r\n",
      "7-->a\r\n",
      "8-->a\r\n",
      "9-->a\r\n",
      "10-->a\r\n"
     ]
    }
   ],
   "metadata": {
    "dotnet_interactive": {
     "language": "csharp"
    }
   }
  },
  {
   "cell_type": "markdown",
   "source": [
    "## Fan-Out Stages\r\n",
    "In addition to fanning-in data from multiple sources into a single stream, it's also possible to pipe output from one `Source<T>` to multiple substreams using a fanout stage!"
   ],
   "metadata": {}
  },
  {
   "cell_type": "code",
   "execution_count": null,
   "source": [
    "// create a source of 1-10\r\n",
    "Source<int, NotUsed> sharedSource = Source.From(Enumerable.Range(0,10));\r\n",
    "\r\n",
    "// create a substream that will print out even / odd status\r\n",
    "var (completeStatus, statusSink) = Sink.Seq<string>().PreMaterialize(materializer);\r\n",
    "\r\n",
    "Sink<int, NotUsed> numFlow = Flow.Create<int>().Select(x => x % 2 == 0 ? $\"{x} is even\" : $\"{x} is odd\").To(statusSink);\r\n",
    "\r\n",
    "// create a substream that will compute sum of all numbers\r\n",
    "var (completeSum, sumSink) = Sink.Sum<int>((i, n) => i + n).PreMaterialize(materializer);\r\n",
    "\r\n",
    "var combined = Sink.Combine<int>(i => new Broadcast<int>(2), statusSink, sumSink);\r\n",
    "\r\n",
    "//sharedSource.To(numFlow)."
   ],
   "outputs": [
    {
     "output_type": "error",
     "ename": "Error",
     "evalue": "(12,21): error CS0305: Using the generic method 'Sink.Combine<TIn, TOut, TMat>(Func<int, IGraph<UniformFanOutShape<TIn, TOut>, TMat>>, Sink<TOut, NotUsed>, Sink<TOut, NotUsed>, params Sink<TOut, NotUsed>[])' requires 3 type arguments",
     "traceback": [
      "(12,21): error CS0305: Using the generic method 'Sink.Combine<TIn, TOut, TMat>(Func<int, IGraph<UniformFanOutShape<TIn, TOut>, TMat>>, Sink<TOut, NotUsed>, Sink<TOut, NotUsed>, params Sink<TOut, NotUsed>[])' requires 3 type arguments"
     ]
    }
   ],
   "metadata": {
    "dotnet_interactive": {
     "language": "csharp"
    }
   }
  }
 ],
 "nbformat": 4,
 "nbformat_minor": 2
}