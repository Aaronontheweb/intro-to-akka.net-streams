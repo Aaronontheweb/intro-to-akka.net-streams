{
 "cells": [
  {
   "cell_type": "markdown",
   "metadata": {},
   "source": [
    "# Akka.Streams and Backoff\n",
    "Part of the raison d'être for Akka.Streams in the first place is to faciliate support for [Reactive Streams](https://www.reactive-streams.org/) - the ability to ensure that in asynchronous producer-consumer systems a faster upstream producer can't overwhelm a slower downstream consumer.\n",
    "\n",
    "Let's consider an example."
   ]
  },
  {
   "cell_type": "code",
   "execution_count": 2,
   "metadata": {
    "dotnet_interactive": {
     "language": "csharp"
    },
    "vscode": {
     "languageId": "dotnet-interactive.csharp"
    }
   },
   "outputs": [
    {
     "data": {
      "text/html": [
       "<div><div></div><div></div><div><strong>Installed Packages</strong><ul><li><span>Akka.Streams, 1.4.47</span></li></ul></div></div>"
      ]
     },
     "metadata": {},
     "output_type": "display_data"
    },
    {
     "ename": "Error",
     "evalue": "(15,81): error CS1501: No overload for method 'Batch' takes 1 arguments",
     "output_type": "error",
     "traceback": [
      "(15,81): error CS1501: No overload for method 'Batch' takes 1 arguments"
     ]
    }
   ],
   "source": [
    "#r \"nuget: Akka.Streams, 1.4.47\"\n",
    "\n",
    "using System.Linq;\n",
    "using System.Collections.Immutable;\n",
    "using Akka;\n",
    "using Akka.Actor;\n",
    "using Akka.Streams;\n",
    "using Akka.Streams.Dsl;\n",
    "\n",
    "ActorSystem actorSystem = ActorSystem.Create(\"StreamsExample2\");\n",
    "IMaterializer materializer = actorSystem.Materializer();\n",
    "\n",
    "// Fast upstream producer - instantly produces 10,000 requests\n",
    "Source<int,NotUsed> source = Source.From(Enumerable.Range(0, 10000));\n",
    "\n",
    "// Group into batches of 100\n",
    "Source<IEnumerable<int>,NotUsed> batchingSource = source.Via(Flow.Create<int>().Grouped(100)); \n",
    "\n",
    "var start = DateTime.UtcNow;\n",
    "\n",
    "// simulate a slower downstream consumer - can only process 10 events per second\n",
    "var slowSink = batchingSource.Via(Flow.Create<IEnumerable<int>>().Delay(TimeSpan.FromMilliseconds(1000), DelayOverflowStrategy.Backpressure)\n",
    "    .Select(x => (x.Sum(), DateTime.UtcNow - start))); // sum each group;\n",
    "\n",
    "var output = slowSink.RunAsAsyncEnumerable(materializer);\n",
    "\n",
    "await foreach(var i in output){\n",
    "    Console.WriteLine($\"{i}\");\n",
    "}\n"
   ]
  },
  {
   "cell_type": "markdown",
   "metadata": {},
   "source": [
    "In this instance, we are going to simulate a slower downstream consumer by using [a `Delay<T>` flow](https://getakka.net/api/Akka.Streams.Dsl.DelayFlow-1.html), which creates 100ms pauses in the stream:\n",
    "\n",
    "```csharp\n",
    "Flow.Create<IEnumerable<int>>().Delay(TimeSpan.FromMilliseconds(100))\n",
    "```\n",
    "\n",
    "The upstream producer, our `Source<int>`, on the other hand, will immediately create 10,000 items that can be processed immediately:\n",
    "\n",
    "```csharp\n",
    "Source<int,NotUsed> source = Source.From(Enumerable.Range(0, 10000));\n",
    "```\n",
    "\n",
    "So what do we do? In our case, we need to equip our Akka.Streams graph with the ability to handle backpressure somehow - otherwise, this stream will take 1,000 seconds to run through to completion.\n",
    "\n",
    "The approach we used in the sample above to do this is [a `Grouped<T,IEnumerable<T>>` flow](https://getakka.net/api/Akka.Streams.Dsl.FlowOperations.html#Akka_Streams_Dsl_FlowOperations_Grouped__3_Akka_Streams_Dsl_Flow___0___1___2__System_Int32_) - which will chunk upstream elements into groups of up to 100. When the `Delay<T>` backpressures, however, the grouping will stop and the original `Source<int>` will stop being read from until the downstream is ready to process again.\n",
    "\n",
    "That's why you can see this type of pattern appear in the output:\n",
    "\n",
    "```\n",
    "Sum,   DateTime.UtcNow.Ticks\n",
    "(4950, 637654561536058261)\n",
    "(14950, 637654561536077747)\n",
    "(24950, 637654561536078125)\n",
    "```\n",
    "\n",
    "The sums are growing larger because we're selecting larger integers in the sequence - and the tickcount is growing larger because the processing delay in computing the sum is being observed in real-time as the stream is processed.\n",
    "\n",
    "This is an example of backpressure at work inside an Akka.NET Stream!"
   ]
  }
 ],
 "metadata": {
  "kernelspec": {
   "display_name": ".NET (C#)",
   "language": "C#",
   "name": ".net-csharp"
  },
  "language_info": {
   "name": "C#"
  }
 },
 "nbformat": 4,
 "nbformat_minor": 2
}
