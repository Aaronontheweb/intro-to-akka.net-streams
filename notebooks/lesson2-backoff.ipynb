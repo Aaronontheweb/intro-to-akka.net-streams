{
 "metadata": {
  "kernelspec": {
   "display_name": ".NET (C#)",
   "language": "C#",
   "name": ".net-csharp"
  },
  "language_info": {
   "name": "C#"
  }
 },
 "cells": [
  {
   "cell_type": "markdown",
   "source": [
    "# Akka.Streams and Backoff\r\n",
    "Part of the raison d'être for Akka.Streams in the first place is to faciliate support for [Reactive Streams](https://www.reactive-streams.org/) - the ability to ensure that in asynchronous producer-consumer systems a faster upstream producer can't overwhelm a slower downstream consumer.\r\n",
    "\r\n",
    "Let's consider an example."
   ],
   "metadata": {}
  },
  {
   "cell_type": "code",
   "execution_count": null,
   "source": [
    "#r \"nuget: Akka.Streams, 1.4.24\"\r\n",
    "\r\n",
    "using System.Linq;\r\n",
    "using System.Collections.Immutable;\r\n",
    "using Akka;\r\n",
    "using Akka.Actor;\r\n",
    "using Akka.Streams;\r\n",
    "using Akka.Streams.Dsl;\r\n",
    "\r\n",
    "ActorSystem actorSystem = ActorSystem.Create(\"StreamsExample2\");\r\n",
    "IMaterializer materializer = actorSystem.Materializer();\r\n",
    "\r\n",
    "// Fast upstream producer - instantly produces 10,000 requests\r\n",
    "Source<int,NotUsed> source = Source.From(Enumerable.Range(0, 10000));\r\n",
    "\r\n",
    "// Group into batches of 100\r\n",
    "Source<IEnumerable<int>,NotUsed> batchingSource = source.Via(Flow.Create<int>().Grouped(100)); \r\n",
    "\r\n",
    "// output\r\n",
    "var (task, sink) = Sink.ForEach<int>(c => Console.WriteLine(c.ToString()))\r\n",
    "    .PreMaterialize(materializer);\r\n",
    "//.WithAttributes(new Attributes(new ActorAttributes.Dispatcher(\"akka.actor.synchronized-dispatcher\")));\r\n",
    "\r\n",
    "// simulate a slower downstream consumer - can only process 10 events per second\r\n",
    "var slowSink = Flow.Create<IEnumerable<int>>().Delay(TimeSpan.FromMilliseconds(100))\r\n",
    "    .Select(x => x.Sum()) // sum each group\r\n",
    "    .To(sink);\r\n",
    "\r\n",
    "batchingSource.RunWith(slowSink, materializer);\r\n",
    "\r\n",
    "await task;\r\n"
   ],
   "outputs": [
    {
     "data": {
      "text/html": [
       "<div><div></div><div></div><div><strong>Installed Packages</strong><ul><li><span>Akka.Streams, 1.4.24</span></li></ul></div></div>"
      ]
     },
     "metadata": {},
     "output_type": "display_data"
    }
   ],
   "metadata": {
    "dotnet_interactive": {
     "language": "csharp"
    }
   }
  }
 ],
 "nbformat": 4,
 "nbformat_minor": 2
}