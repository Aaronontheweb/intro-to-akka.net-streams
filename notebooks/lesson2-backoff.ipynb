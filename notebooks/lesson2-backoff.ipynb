{
 "metadata": {
  "kernelspec": {
   "display_name": ".NET (C#)",
   "language": "C#",
   "name": ".net-csharp"
  },
  "language_info": {
   "name": "C#"
  }
 },
 "cells": [
  {
   "cell_type": "markdown",
   "source": [
    "# Akka.Streams and Backoff\r\n",
    "Part of the raison d'être for Akka.Streams in the first place is to faciliate support for [Reactive Streams](https://www.reactive-streams.org/) - the ability to ensure that in asynchronous producer-consumer systems a faster upstream producer can't overwhelm a slower downstream consumer.\r\n",
    "\r\n",
    "Let's consider an example."
   ],
   "metadata": {}
  },
  {
   "cell_type": "code",
   "execution_count": null,
   "source": [
    "#r \"nuget: Akka.Streams, 1.4.24\"\r\n",
    "\r\n",
    "using System.Linq;\r\n",
    "using System.Collections.Immutable;\r\n",
    "using Akka;\r\n",
    "using Akka.Actor;\r\n",
    "using Akka.Streams;\r\n",
    "using Akka.Streams.Dsl;\r\n",
    "\r\n",
    "ActorSystem actorSystem = ActorSystem.Create(\"StreamsExample2\");\r\n",
    "IMaterializer materializer = actorSystem.Materializer();\r\n",
    "\r\n",
    "// Fast upstream producer - instantly produces 10,000 requests\r\n",
    "Source<int,NotUsed> source = Source.From(Enumerable.Range(0, 10000));\r\n",
    "\r\n",
    "// Group into batches of 100\r\n",
    "Source<IEnumerable<int>,NotUsed> batchingSource = source.Via(Flow.Create<int>().Grouped(100)); \r\n",
    "\r\n",
    "// output\r\n",
    "var (task, sink) = Sink.Seq<(int, long)>()\r\n",
    "    .PreMaterialize(materializer);\r\n",
    "//.WithAttributes(new Attributes(new ActorAttributes.Dispatcher(\"akka.actor.synchronized-dispatcher\")));\r\n",
    "\r\n",
    "// simulate a slower downstream consumer - can only process 10 events per second\r\n",
    "var slowSink = Flow.Create<IEnumerable<int>>().Delay(TimeSpan.FromMilliseconds(100))\r\n",
    "    .Select(x => (x.Sum(), DateTime.UtcNow.Ticks)) // sum each group\r\n",
    "    .To(sink);\r\n",
    "\r\n",
    "batchingSource.RunWith(slowSink, materializer);\r\n",
    "\r\n",
    "var output = await task;\r\n",
    "\r\n",
    "foreach(var i in output){\r\n",
    "    Console.WriteLine($\"{i}\");\r\n",
    "}\r\n"
   ],
   "outputs": [
    {
     "data": {
      "text/html": [
       "<div><div></div><div></div><div><strong>Installed Packages</strong><ul><li><span>Akka.Streams, 1.4.24</span></li></ul></div></div>"
      ]
     },
     "metadata": {},
     "output_type": "display_data"
    },
    {
     "output_type": "stream",
     "name": "stdout",
     "text": [
      "(4950, 637654561536058261)\r\n",
      "(14950, 637654561536077747)\r\n",
      "(24950, 637654561536078125)\r\n",
      "(34950, 637654561536078145)\r\n",
      "(44950, 637654561536078164)\r\n",
      "(54950, 637654561536078184)\r\n",
      "(64950, 637654561536078202)\r\n",
      "(74950, 637654561536078220)\r\n",
      "(84950, 637654561536078238)\r\n",
      "(94950, 637654561536078260)\r\n",
      "(104950, 637654561536078278)\r\n",
      "(114950, 637654561536078295)\r\n",
      "(124950, 637654561536078313)\r\n",
      "(134950, 637654561536078330)\r\n",
      "(144950, 637654561536078348)\r\n",
      "(994950, 637654561536078394)\r\n"
     ]
    }
   ],
   "metadata": {
    "dotnet_interactive": {
     "language": "csharp"
    }
   }
  },
  {
   "cell_type": "markdown",
   "source": [
    "In this instance, we are going to simulate a slower downstream consumer by using [a `Delay<T>` flow](https://getakka.net/api/Akka.Streams.Dsl.DelayFlow-1.html), which creates 100ms pauses in the stream:\r\n",
    "\r\n",
    "```csharp\r\n",
    "Flow.Create<IEnumerable<int>>().Delay(TimeSpan.FromMilliseconds(100))\r\n",
    "```\r\n",
    "\r\n",
    "The upstream producer, our `Source<int>`, on the other hand, will immediately create 10,000 items that can be processed immediately:\r\n",
    "\r\n",
    "```csharp\r\n",
    "Source<int,NotUsed> source = Source.From(Enumerable.Range(0, 10000));\r\n",
    "```\r\n",
    "\r\n",
    "So what do we do? In our case, we need to equip our Akka.Streams graph with the ability to handle backpressure somehow - otherwise, this stream will take 1,000 seconds to run through to completion.\r\n",
    "\r\n",
    "The approach we used in the sample above to do this is [a `Grouped<T,IEnumerable<T>>` flow](https://getakka.net/api/Akka.Streams.Dsl.FlowOperations.html#Akka_Streams_Dsl_FlowOperations_Grouped__3_Akka_Streams_Dsl_Flow___0___1___2__System_Int32_) - which will chunk upstream elements into groups of up to 100. When the `Delay<T>` backpressures, however, the grouping will stop and the original `Source<int>` will stop being read from until the downstream is ready to process again.\r\n",
    "\r\n",
    "That's why you can see this type of pattern appear in the output:\r\n",
    "\r\n",
    "```\r\n",
    "Sum,   DateTime.UtcNow.Ticks\r\n",
    "(4950, 637654561536058261)\r\n",
    "(14950, 637654561536077747)\r\n",
    "(24950, 637654561536078125)\r\n",
    "```\r\n",
    "\r\n",
    "The sums are growing larger because we're selecting larger integers in the sequence - and the tickcount is growing larger because the processing delay in computing the sum is being observed in real-time as the stream is processed.\r\n",
    "\r\n",
    "This is an example of backpressure at work inside an Akka.NET Stream!"
   ],
   "metadata": {}
  }
 ],
 "nbformat": 4,
 "nbformat_minor": 2
}