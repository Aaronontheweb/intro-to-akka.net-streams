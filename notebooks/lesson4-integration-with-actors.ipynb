{
 "cells": [
  {
   "cell_type": "markdown",
   "metadata": {},
   "source": [
    "# Akka.Streams Integration with Akka.NET Actors\n",
    "Behind the scenes, all Akka.Streams graphs are ultimately compiled via the `IMaterializer` into one or more Akka.NET actors. Thus there are a number of ways Akka.Streams can integrate with Akka.NET actors in real-world use."
   ]
  },
  {
   "cell_type": "markdown",
   "metadata": {},
   "source": [
    "## Integration with Actors in Flows\n",
    "Using techniques such as the `Ask<TResult>` method in Akka.NET, we can incorporate actors directly inside built-in Akka.Streams flows without much code."
   ]
  },
  {
   "cell_type": "code",
   "execution_count": 1,
   "metadata": {
    "dotnet_interactive": {
     "language": "csharp"
    },
    "vscode": {
     "languageId": "dotnet-interactive.csharp"
    }
   },
   "outputs": [
    {
     "data": {
      "text/html": [
       "<div><div></div><div></div><div><strong>Installed Packages</strong><ul><li><span>Akka.Streams, 1.4.47</span></li></ul></div></div>"
      ]
     },
     "metadata": {},
     "output_type": "display_data"
    }
   ],
   "source": [
    "#r \"nuget: Akka.Streams, 1.4.47\"\n",
    "\n",
    "using System.Linq;\n",
    "using System.Collections.Immutable;\n",
    "using Akka;\n",
    "using Akka.Actor;\n",
    "using Akka.Streams;\n",
    "using Akka.Streams.Dsl;\n",
    "\n",
    "ActorSystem actorSystem = ActorSystem.Create(\"StreamsExample\");\n",
    "\n",
    "IMaterializer materializer = actorSystem.Materializer();\n",
    "\n",
    "// create a simple actor that performs some modulus\n",
    "public class MyActor : ReceiveActor{\n",
    "    public MyActor(){\n",
    "        // returns a (i, i mod 2) ValueTuple\n",
    "        Receive<int>(i => Sender.Tell((i, i % 2)));\n",
    "    }\n",
    "}\n",
    "\n",
    "IActorRef myActorRef = actorSystem.ActorOf(Props.Create(() => new MyActor()), \"myactor\");"
   ]
  },
  {
   "cell_type": "markdown",
   "metadata": {},
   "source": [
    "In this instance, we've created a simple `ReceiveActor` that will perform a bit of modulus. Let's integrate it inside a simple graph and see how it works."
   ]
  },
  {
   "cell_type": "code",
   "execution_count": 4,
   "metadata": {
    "dotnet_interactive": {
     "language": "csharp"
    },
    "vscode": {
     "languageId": "dotnet-interactive.csharp"
    }
   },
   "outputs": [
    {
     "name": "stdout",
     "output_type": "stream",
     "text": [
      "0\r\n",
      "2\r\n",
      "4\r\n",
      "6\r\n",
      "8\r\n"
     ]
    }
   ],
   "source": [
    "// create 10,000 integers\n",
    "Source<int,NotUsed> source = Source.From(Enumerable.Range(0, 10));\n",
    "\n",
    "// allow up to 10 parallel asks of our actor\n",
    "var askFlow = Flow.Create<int>().SelectAsyncUnordered(10, async i => await myActorRef.Ask<(int value, int mod)>(i, TimeSpan.FromSeconds(3)));\n",
    "\n",
    "// create a flow that does the following:\n",
    "// int --> is even number? --> keep only even numbers --> count total even numbers\n",
    "IAsyncEnumerable<int> graph = source.Via(askFlow).Where(d => d.mod == 0).Select(x => x.value).RunAsAsyncEnumerable(materializer);\n",
    "\n",
    "await foreach(var i in graph){\n",
    "    Console.WriteLine(i);\n",
    "}"
   ]
  },
  {
   "cell_type": "markdown",
   "metadata": {},
   "source": [
    "In this case, we're using the `SelectAsync` stage, which allows for up to N `Task<T>`s to run in parallel before back-pressuring the stage above, to `Ask<T>` our `ReceiveActor` we created earlier. The actor will do all of the processing and upon replying to the sender will complete the `Task<T>` that was being `await`-ed upon inside the `SelectAsync` statement."
   ]
  }
 ],
 "metadata": {
  "kernelspec": {
   "display_name": ".NET (C#)",
   "language": "C#",
   "name": ".net-csharp"
  },
  "language_info": {
   "file_extension": ".cs",
   "mimetype": "text/x-csharp",
   "name": "C#",
   "pygments_lexer": "csharp",
   "version": "9.0"
  }
 },
 "nbformat": 4,
 "nbformat_minor": 2
}
